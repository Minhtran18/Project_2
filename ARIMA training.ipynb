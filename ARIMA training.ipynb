{
 "cells": [
  {
   "cell_type": "code",
   "execution_count": 14,
   "metadata": {},
   "outputs": [],
   "source": [
    "# Initial imports\n",
    "import numpy as np\n",
    "import pandas as pd\n",
    "from pathlib import Path\n",
    "import yfinance as yf\n",
    "import matplotlib.pyplot as plt\n",
    "%matplotlib inline"
   ]
  },
  {
   "cell_type": "code",
   "execution_count": 2,
   "metadata": {},
   "outputs": [
    {
     "data": {
      "text/html": [
       "<div>\n",
       "<style scoped>\n",
       "    .dataframe tbody tr th:only-of-type {\n",
       "        vertical-align: middle;\n",
       "    }\n",
       "\n",
       "    .dataframe tbody tr th {\n",
       "        vertical-align: top;\n",
       "    }\n",
       "\n",
       "    .dataframe thead th {\n",
       "        text-align: right;\n",
       "    }\n",
       "</style>\n",
       "<table border=\"1\" class=\"dataframe\">\n",
       "  <thead>\n",
       "    <tr style=\"text-align: right;\">\n",
       "      <th></th>\n",
       "      <th>AAPL</th>\n",
       "    </tr>\n",
       "    <tr>\n",
       "      <th>Date</th>\n",
       "      <th></th>\n",
       "    </tr>\n",
       "  </thead>\n",
       "  <tbody>\n",
       "    <tr>\n",
       "      <th>2016-01-19</th>\n",
       "      <td>22.388184</td>\n",
       "    </tr>\n",
       "    <tr>\n",
       "      <th>2016-01-20</th>\n",
       "      <td>22.418295</td>\n",
       "    </tr>\n",
       "    <tr>\n",
       "      <th>2016-01-21</th>\n",
       "      <td>22.304800</td>\n",
       "    </tr>\n",
       "    <tr>\n",
       "      <th>2016-01-22</th>\n",
       "      <td>23.490686</td>\n",
       "    </tr>\n",
       "    <tr>\n",
       "      <th>2016-01-25</th>\n",
       "      <td>23.032082</td>\n",
       "    </tr>\n",
       "  </tbody>\n",
       "</table>\n",
       "</div>"
      ],
      "text/plain": [
       "                 AAPL\n",
       "Date                 \n",
       "2016-01-19  22.388184\n",
       "2016-01-20  22.418295\n",
       "2016-01-21  22.304800\n",
       "2016-01-22  23.490686\n",
       "2016-01-25  23.032082"
      ]
     },
     "execution_count": 2,
     "metadata": {},
     "output_type": "execute_result"
    }
   ],
   "source": [
    "x = \"AAPL\"\n",
    "\n",
    "stock = yf.Ticker(x)\n",
    "\n",
    "hist = stock.history(period=\"5y\")\n",
    "\n",
    "# Create an empty DataFrame for closing prices\n",
    "signals_df = pd.DataFrame()\n",
    "\n",
    "# Fetch the closing prices\n",
    "signals_df[x] = hist[\"Close\"]\n",
    "\n",
    "signals_df.head()"
   ]
  },
  {
   "cell_type": "code",
   "execution_count": 3,
   "metadata": {},
   "outputs": [
    {
     "name": "stderr",
     "output_type": "stream",
     "text": [
      "C:\\Users\\ttanh\\anaconda3\\lib\\site-packages\\statsmodels\\tsa\\base\\tsa_model.py:216: ValueWarning: A date index has been provided, but it has no associated frequency information and so will be ignored when e.g. forecasting.\n",
      "  warnings.warn('A date index has been provided, but it has no'\n",
      "C:\\Users\\ttanh\\anaconda3\\lib\\site-packages\\statsmodels\\tsa\\base\\tsa_model.py:216: ValueWarning: A date index has been provided, but it has no associated frequency information and so will be ignored when e.g. forecasting.\n",
      "  warnings.warn('A date index has been provided, but it has no'\n"
     ]
    }
   ],
   "source": [
    "from statsmodels.tsa.arima_model import ARIMA\n",
    "\n",
    "# Estimate and ARIMA Model:\n",
    "# Hint: ARIMA(df, order=(p, d, q))\n",
    "model = ARIMA(signals_df, order=(5, 1, 1))\n",
    "\n",
    "# Fit the model\n",
    "results = model.fit()"
   ]
  },
  {
   "cell_type": "code",
   "execution_count": 4,
   "metadata": {},
   "outputs": [
    {
     "data": {
      "text/html": [
       "<table class=\"simpletable\">\n",
       "<caption>ARIMA Model Results</caption>\n",
       "<tr>\n",
       "  <th>Dep. Variable:</th>      <td>D.AAPL</td>      <th>  No. Observations:  </th>   <td>1258</td>   \n",
       "</tr>\n",
       "<tr>\n",
       "  <th>Model:</th>          <td>ARIMA(5, 1, 1)</td>  <th>  Log Likelihood     </th> <td>-2101.668</td>\n",
       "</tr>\n",
       "<tr>\n",
       "  <th>Method:</th>             <td>css-mle</td>     <th>  S.D. of innovations</th>   <td>1.286</td>  \n",
       "</tr>\n",
       "<tr>\n",
       "  <th>Date:</th>          <td>Sat, 16 Jan 2021</td> <th>  AIC                </th> <td>4219.335</td> \n",
       "</tr>\n",
       "<tr>\n",
       "  <th>Time:</th>              <td>22:56:14</td>     <th>  BIC                </th> <td>4260.434</td> \n",
       "</tr>\n",
       "<tr>\n",
       "  <th>Sample:</th>                <td>1</td>        <th>  HQIC               </th> <td>4234.781</td> \n",
       "</tr>\n",
       "<tr>\n",
       "  <th></th>                       <td> </td>        <th>                     </th>     <td> </td>    \n",
       "</tr>\n",
       "</table>\n",
       "<table class=\"simpletable\">\n",
       "<tr>\n",
       "        <td></td>          <th>coef</th>     <th>std err</th>      <th>z</th>      <th>P>|z|</th>  <th>[0.025</th>    <th>0.975]</th>  \n",
       "</tr>\n",
       "<tr>\n",
       "  <th>const</th>        <td>    0.0835</td> <td>    0.033</td> <td>    2.526</td> <td> 0.012</td> <td>    0.019</td> <td>    0.148</td>\n",
       "</tr>\n",
       "<tr>\n",
       "  <th>ar.L1.D.AAPL</th> <td>   -1.0124</td> <td>    0.083</td> <td>  -12.163</td> <td> 0.000</td> <td>   -1.176</td> <td>   -0.849</td>\n",
       "</tr>\n",
       "<tr>\n",
       "  <th>ar.L2.D.AAPL</th> <td>   -0.0999</td> <td>    0.042</td> <td>   -2.397</td> <td> 0.017</td> <td>   -0.182</td> <td>   -0.018</td>\n",
       "</tr>\n",
       "<tr>\n",
       "  <th>ar.L3.D.AAPL</th> <td>    0.0136</td> <td>    0.040</td> <td>    0.336</td> <td> 0.737</td> <td>   -0.065</td> <td>    0.093</td>\n",
       "</tr>\n",
       "<tr>\n",
       "  <th>ar.L4.D.AAPL</th> <td>   -0.0188</td> <td>    0.040</td> <td>   -0.466</td> <td> 0.641</td> <td>   -0.098</td> <td>    0.060</td>\n",
       "</tr>\n",
       "<tr>\n",
       "  <th>ar.L5.D.AAPL</th> <td>    0.0457</td> <td>    0.036</td> <td>    1.279</td> <td> 0.201</td> <td>   -0.024</td> <td>    0.116</td>\n",
       "</tr>\n",
       "<tr>\n",
       "  <th>ma.L1.D.AAPL</th> <td>    0.8884</td> <td>    0.079</td> <td>   11.182</td> <td> 0.000</td> <td>    0.733</td> <td>    1.044</td>\n",
       "</tr>\n",
       "</table>\n",
       "<table class=\"simpletable\">\n",
       "<caption>Roots</caption>\n",
       "<tr>\n",
       "    <td></td>   <th>            Real</th>  <th>         Imaginary</th> <th>         Modulus</th>  <th>        Frequency</th>\n",
       "</tr>\n",
       "<tr>\n",
       "  <th>AR.1</th> <td>          -1.2755</td> <td>          -0.2868j</td> <td>           1.3074</td> <td>          -0.4648</td>\n",
       "</tr>\n",
       "<tr>\n",
       "  <th>AR.2</th> <td>          -1.2755</td> <td>          +0.2868j</td> <td>           1.3074</td> <td>           0.4648</td>\n",
       "</tr>\n",
       "<tr>\n",
       "  <th>AR.3</th> <td>           2.5313</td> <td>          -0.0000j</td> <td>           2.5313</td> <td>          -0.0000</td>\n",
       "</tr>\n",
       "<tr>\n",
       "  <th>AR.4</th> <td>           0.2150</td> <td>          -2.2376j</td> <td>           2.2479</td> <td>          -0.2348</td>\n",
       "</tr>\n",
       "<tr>\n",
       "  <th>AR.5</th> <td>           0.2150</td> <td>          +2.2376j</td> <td>           2.2479</td> <td>           0.2348</td>\n",
       "</tr>\n",
       "<tr>\n",
       "  <th>MA.1</th> <td>          -1.1256</td> <td>          +0.0000j</td> <td>           1.1256</td> <td>           0.5000</td>\n",
       "</tr>\n",
       "</table>"
      ],
      "text/plain": [
       "<class 'statsmodels.iolib.summary.Summary'>\n",
       "\"\"\"\n",
       "                             ARIMA Model Results                              \n",
       "==============================================================================\n",
       "Dep. Variable:                 D.AAPL   No. Observations:                 1258\n",
       "Model:                 ARIMA(5, 1, 1)   Log Likelihood               -2101.668\n",
       "Method:                       css-mle   S.D. of innovations              1.286\n",
       "Date:                Sat, 16 Jan 2021   AIC                           4219.335\n",
       "Time:                        22:56:14   BIC                           4260.434\n",
       "Sample:                             1   HQIC                          4234.781\n",
       "                                                                              \n",
       "================================================================================\n",
       "                   coef    std err          z      P>|z|      [0.025      0.975]\n",
       "--------------------------------------------------------------------------------\n",
       "const            0.0835      0.033      2.526      0.012       0.019       0.148\n",
       "ar.L1.D.AAPL    -1.0124      0.083    -12.163      0.000      -1.176      -0.849\n",
       "ar.L2.D.AAPL    -0.0999      0.042     -2.397      0.017      -0.182      -0.018\n",
       "ar.L3.D.AAPL     0.0136      0.040      0.336      0.737      -0.065       0.093\n",
       "ar.L4.D.AAPL    -0.0188      0.040     -0.466      0.641      -0.098       0.060\n",
       "ar.L5.D.AAPL     0.0457      0.036      1.279      0.201      -0.024       0.116\n",
       "ma.L1.D.AAPL     0.8884      0.079     11.182      0.000       0.733       1.044\n",
       "                                    Roots                                    \n",
       "=============================================================================\n",
       "                  Real          Imaginary           Modulus         Frequency\n",
       "-----------------------------------------------------------------------------\n",
       "AR.1           -1.2755           -0.2868j            1.3074           -0.4648\n",
       "AR.2           -1.2755           +0.2868j            1.3074            0.4648\n",
       "AR.3            2.5313           -0.0000j            2.5313           -0.0000\n",
       "AR.4            0.2150           -2.2376j            2.2479           -0.2348\n",
       "AR.5            0.2150           +2.2376j            2.2479            0.2348\n",
       "MA.1           -1.1256           +0.0000j            1.1256            0.5000\n",
       "-----------------------------------------------------------------------------\n",
       "\"\"\""
      ]
     },
     "execution_count": 4,
     "metadata": {},
     "output_type": "execute_result"
    }
   ],
   "source": [
    "results.summary()"
   ]
  },
  {
   "cell_type": "code",
   "execution_count": 5,
   "metadata": {},
   "outputs": [
    {
     "data": {
      "text/plain": [
       "<matplotlib.axes._subplots.AxesSubplot at 0x232d2ee63a0>"
      ]
     },
     "execution_count": 5,
     "metadata": {},
     "output_type": "execute_result"
    },
    {
     "data": {
      "image/png": "[encoded data removed]",
      "text/plain": [
       "<Figure size 432x288 with 1 Axes>"
      ]
     },
     "metadata": {
      "needs_background": "light"
     },
     "output_type": "display_data"
    }
   ],
   "source": [
    "pd.DataFrame(results.forecast(steps=10)[0]).plot(title=\"10 Day Futures Price Forecast\")"
   ]
  }
 ],
 "metadata": {
  "kernelspec": {
   "display_name": "Python 3",
   "language": "python",
   "name": "python3"
  },
  "language_info": {
   "codemirror_mode": {
    "name": "ipython",
    "version": 3
   },
   "file_extension": ".py",
   "mimetype": "text/x-python",
   "name": "python",
   "nbconvert_exporter": "python",
   "pygments_lexer": "ipython3",
   "version": "3.8.3"
  }
 },
 "nbformat": 4,
 "nbformat_minor": 4
}
