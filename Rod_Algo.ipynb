{
 "cells": [
  {
   "cell_type": "code",
   "execution_count": null,
   "metadata": {},
   "outputs": [],
   "source": [
    "x = input('What is your stock? ')"
   ]
  },
  {
   "cell_type": "code",
   "execution_count": null,
   "metadata": {},
   "outputs": [],
   "source": [
    "print(x)"
   ]
  },
  {
   "cell_type": "code",
   "execution_count": null,
   "metadata": {},
   "outputs": [],
   "source": [
    "import pandas as pd\n",
    "import hvplot.pandas\n",
    "import yfinance as yf\n",
    "from dotenv import load_dotenv\n",
    "import numpy as np\n",
    "%matplotlib inline"
   ]
  },
  {
   "cell_type": "code",
   "execution_count": null,
   "metadata": {},
   "outputs": [],
   "source": [
    "# Get historical data in YAHOO FINANCE HISTORICAL DATABASE\n",
    "stock = yf.Ticker(x)\n",
    "\n",
    "hist = stock.history(period=\"3y\")\n",
    "\n",
    "# Create an empty DataFrame for closing prices\n",
    "signals_df = pd.DataFrame()\n",
    "\n",
    "# Fetch the closing prices\n",
    "signals_df[x] = hist[\"Close\"]\n",
    "\n",
    "signals_df.tail()"
   ]
  },
  {
   "cell_type": "code",
   "execution_count": null,
   "metadata": {},
   "outputs": [],
   "source": [
    "# Fetch current X stock price\n",
    "current_price = float(signals_df.iloc[-1])\n",
    "actual = print(f\" {x} current stock price is ${current_price}\")"
   ]
  },
  {
   "cell_type": "code",
   "execution_count": null,
   "metadata": {},
   "outputs": [],
   "source": [
    "# Set the short window and long windows\n",
    "short_window = 50\n",
    "long_window = 100\n",
    "\n",
    "# Generate the short and long moving averages (50 and 100 days, respectively)\n",
    "signals_df[\"SMA50\"] = signals_df[x].rolling(window=short_window).mean()\n",
    "signals_df[\"SMA100\"] = signals_df[x].rolling(window=long_window).mean()\n",
    "\n",
    "# Initialize the new `Signal` column\n",
    "signals_df[\"Signal\"] = 0.0\n",
    "\n",
    "# Generate the trading signal 0 or 1,\n",
    "# where 0 is when the SMA50 is under the SMA100, and\n",
    "# where 1 is when the SMA50 is higher (or crosses over) the SMA100\n",
    "signals_df[\"Signal\"][short_window:] = np.where(\n",
    "    signals_df[\"SMA50\"][short_window:] < signals_df[\"SMA100\"][short_window:], 1.0, 0.0\n",
    ")\n",
    "\n",
    "# Calculate the points in time at which a position should be taken, 1 or -1\n",
    "signals_df[\"Entry/Exit\"] = signals_df[\"Signal\"].diff()\n",
    "\n",
    "# Print the DataFrame\n",
    "signals_df.tail()"
   ]
  },
  {
   "cell_type": "code",
   "execution_count": null,
   "metadata": {},
   "outputs": [],
   "source": [
    "# Visualize exit position relative to close price\n",
    "def signal(stock,color):\n",
    "    stock_entry = stock.hvplot.scatter(\n",
    "        color=color, legend=False, ylabel=\"Price in $\", width=800, height=400, marker='v', size=200)\n",
    "    return stock_entry\n",
    "\n",
    "\n",
    "# Visualize close price for the investment\n",
    "def close_price(stock,title):\n",
    "    stock_close = stock.hvplot(\n",
    "        line_color=\"lightgray\", ylabel=\"Price in $\", width=800, \n",
    "        title = title\n",
    ")\n",
    "    return stock_close\n",
    "\n",
    "# Visualize moving averages\n",
    "def averages(stock):\n",
    "    moving_avgs = stock.hvplot(\n",
    "        ylabel=\"Price in $\", width=800, height=300\n",
    ")\n",
    "    return moving_avgs\n"
   ]
  },
  {
   "cell_type": "code",
   "execution_count": null,
   "metadata": {},
   "outputs": [],
   "source": [
    "# Visualize entry position relative to close price\n",
    "entry_signal = signal(\n",
    "    stock = signals_df[signals_df[\"Entry/Exit\"] == -1.0][x],\n",
    "    color =\"green\")\n",
    "# Visualize exit position relative to close price\n",
    "exit_signal = signal(\n",
    "    stock = signals_df[signals_df[\"Entry/Exit\"] == 1.0][x],\n",
    "    color =\"red\")\n",
    "\n",
    "closing_prices = close_price(\n",
    "    stock = signals_df[[x]],\n",
    "    title=\"Stock Closing Price & Entry/Exit Signals\")\n",
    "\n",
    "# Visualize moving averages\n",
    "moving =  averages(\n",
    "    stock = signals_df[[\"SMA50\", \"SMA100\"]])\n"
   ]
  },
  {
   "cell_type": "code",
   "execution_count": null,
   "metadata": {},
   "outputs": [],
   "source": [
    "algo_chart = closing_prices * moving * entry_signal * exit_signal"
   ]
  },
  {
   "cell_type": "code",
   "execution_count": null,
   "metadata": {},
   "outputs": [],
   "source": [
    "# Get historical data in YAHOO FINANCE HISTORICAL DATABASE\n",
    "stock = yf.Ticker(x)\n",
    "\n",
    "hist = stock.history(period=\"3y\")\n",
    "\n",
    "# Create an empty DataFrame for closing prices\n",
    "features_df = pd.DataFrame()\n",
    "\n",
    "# Fetch the closing prices\n",
    "features_df = hist\n",
    "\n",
    "features_df.tail()"
   ]
  },
  {
   "cell_type": "code",
   "execution_count": null,
   "metadata": {},
   "outputs": [],
   "source": [
    "# Drop Dividends and Stock Splits columns\n",
    "features_df = features_df.drop(columns=[\"Dividends\", \"Stock Splits\"])\n",
    "# Drop NAs and calculate daily percent return\n",
    "features_df['daily_return'] = features_df['Close'].dropna().pct_change()\n",
    "features_df"
   ]
  },
  {
   "cell_type": "markdown",
   "metadata": {},
   "source": [
    "### Construct Exponential Moving Average of Closing Prices (Trading Signal, Feature One)"
   ]
  },
  {
   "cell_type": "code",
   "execution_count": null,
   "metadata": {},
   "outputs": [],
   "source": [
    " # Set short and long windows\n",
    "short_window = 1\n",
    "long_window = 10\n",
    "\n",
    "# Construct a `Fast` and `Slow` Exponential Moving Average from short and long windows, respectively\n",
    "features_df['fast_close'] = features_df['Close'].ewm(halflife=short_window).mean()\n",
    "features_df['slow_close'] = features_df['Close'].ewm(halflife=long_window).mean()\n",
    "\n",
    "# Construct a crossover trading signal\n",
    "features_df['crossover_long'] = np.where(features_df['fast_close'] > features_df['slow_close'], 1.0, 0.0)\n",
    "features_df['crossover_short'] = np.where(features_df['fast_close'] < features_df['slow_close'], -1.0, 0.0)\n",
    "features_df['crossover_signal'] = features_df['crossover_long'] + features_df['crossover_short']\n",
    "\n",
    "features_df.head()"
   ]
  },
  {
   "cell_type": "code",
   "execution_count": null,
   "metadata": {},
   "outputs": [],
   "source": [
    "def ema(stock, title):\n",
    "    feature_close = stock.hvplot.line(figsize=(20,10),\n",
    "    title = title\n",
    ")\n",
    "    return feature_close"
   ]
  },
  {
   "cell_type": "code",
   "execution_count": null,
   "metadata": {},
   "outputs": [],
   "source": [
    "ema_close = ema(\n",
    "    stock = features_df[['Close', 'fast_close', 'slow_close']], \n",
    "    title = \"Exponential Moving Average of Closing Prices\")"
   ]
  },
  {
   "cell_type": "markdown",
   "metadata": {},
   "source": [
    "### Construct Exponential Moving Average of Daily Return Volatility (Trading Signal, Feature Two)"
   ]
  },
  {
   "cell_type": "code",
   "execution_count": null,
   "metadata": {},
   "outputs": [],
   "source": [
    " # Set short and long volatility windows\n",
    "short_vol_window = 1\n",
    "long_vol_window = 10\n",
    "\n",
    "# Construct a `Fast` and `Slow` Exponential Moving Average from short and long windows, respectively\n",
    "features_df['fast_vol'] = features_df['daily_return'].ewm(halflife=short_vol_window).std()\n",
    "features_df['slow_vol'] = features_df['daily_return'].ewm(halflife=long_vol_window).std()\n",
    "\n",
    "# Construct a crossover trading signal\n",
    "features_df['vol_trend_long'] = np.where(features_df['fast_vol'] < features_df['slow_vol'], 1.0, 0.0)\n",
    "features_df['vol_trend_short'] = np.where(features_df['fast_vol'] > features_df['slow_vol'], -1.0, 0.0) \n",
    "features_df['vol_trend_signal'] = features_df['vol_trend_long'] + features_df['vol_trend_short']\n",
    "\n",
    "features_df"
   ]
  },
  {
   "cell_type": "code",
   "execution_count": null,
   "metadata": {},
   "outputs": [],
   "source": [
    "ema_vol = ema(\n",
    "    stock = features_df[['fast_vol', 'slow_vol']], \n",
    "    title = \"Exponential Moving Average of Daily Return Volatility\")\n",
    "ema_vol"
   ]
  },
  {
   "cell_type": "markdown",
   "metadata": {},
   "source": [
    "### Construct Bollinger Band (Trading Signal, Feature Three)"
   ]
  },
  {
   "cell_type": "code",
   "execution_count": null,
   "metadata": {},
   "outputs": [],
   "source": [
    " # Set bollinger band window\n",
    "bollinger_window = 20\n",
    "\n",
    "# Calculate rolling mean and standard deviation\n",
    "features_df['bollinger_mid_band'] = features_df['Close'].rolling(window=bollinger_window).mean()\n",
    "features_df['bollinger_std'] = features_df['Close'].rolling(window=20).std()\n",
    "\n",
    "# Calculate upper and lowers bands of bollinger band\n",
    "features_df['bollinger_upper_band']  = features_df['bollinger_mid_band'] + (features_df['bollinger_std'] * 1)\n",
    "features_df['bollinger_lower_band']  = features_df['bollinger_mid_band'] - (features_df['bollinger_std'] * 1)\n",
    "\n",
    "# Calculate bollinger band trading signal\n",
    "features_df['bollinger_long'] = np.where(features_df['Close'] < features_df['bollinger_lower_band'], 1.0, 0.0)\n",
    "features_df['bollinger_short'] = np.where(features_df['Close'] > features_df['bollinger_upper_band'], -1.0, 0.0)\n",
    "features_df['bollinger_signal'] = features_df['bollinger_long'] + features_df['bollinger_short']\n",
    "\n",
    "features_df"
   ]
  },
  {
   "cell_type": "code",
   "execution_count": null,
   "metadata": {},
   "outputs": [],
   "source": [
    "# Plot the Bollinger Bands for closing prices\n",
    "bollinger = ema(features_df[['Close','bollinger_mid_band','bollinger_upper_band','bollinger_lower_band']],\n",
    "              title = \"Bollinger Band\")"
   ]
  },
  {
   "cell_type": "code",
   "execution_count": null,
   "metadata": {},
   "outputs": [],
   "source": [
    "import panel as pn"
   ]
  },
  {
   "cell_type": "code",
   "execution_count": null,
   "metadata": {},
   "outputs": [],
   "source": [
    "# Create a Title for the Dashboard\n",
    "dashboard_title = \"Stock Analysis\"\n",
    "\n",
    "# Define Algo Trading Tab\n",
    "algo_trading = pn.Column(\n",
    "    \"Algorithmic trading uses a computer program that follows a Criteria that shows when its 50-day moving average goes above/below the 100-day moving average, thereby identifies trends, then point in the graph BUY / SELL (Entry / Exit) recommendations\",\n",
    "        algo_chart)\n",
    "\n",
    "# Define Trading Signal Features Tab\n",
    "features_trading = pn.Column(\n",
    "    \"Trading Signal\", \n",
    "        ema_close,\n",
    "        ema_vol,\n",
    "        bollinger)"
   ]
  },
  {
   "cell_type": "code",
   "execution_count": null,
   "metadata": {},
   "outputs": [],
   "source": [
    "# Create a tab layout for the dashboard\n",
    "dashboard = pn.Column(dashboard_title,\n",
    "                      pn.Tabs(\n",
    "                          (\"Algo Trading\", algo_trading),\n",
    "                          (\"Trading Signal Features\", features_trading)\n",
    "))"
   ]
  },
  {
   "cell_type": "code",
   "execution_count": null,
   "metadata": {},
   "outputs": [],
   "source": [
    "dashboard.servable()"
   ]
  },
  {
   "cell_type": "code",
   "execution_count": null,
   "metadata": {},
   "outputs": [],
   "source": []
  }
 ],
 "metadata": {
  "kernelspec": {
   "display_name": "Python 3",
   "language": "python",
   "name": "python3"
  },
  "language_info": {
   "codemirror_mode": {
    "name": "ipython",
    "version": 3
   },
   "file_extension": ".py",
   "mimetype": "text/x-python",
   "name": "python",
   "nbconvert_exporter": "python",
   "pygments_lexer": "ipython3",
   "version": "3.8.3"
  }
 },
 "nbformat": 4,
 "nbformat_minor": 4
}
